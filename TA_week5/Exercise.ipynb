{
 "cells": [
  {
   "cell_type": "markdown",
   "metadata": {},
   "source": [
    "Create a calculator program with the material I have thought you guys so far, it should use def, have user input, make use of loops as well as if statements.\n",
    "\n",
    "Example:\n",
    "Select Operation\n",
    "1. Add\n",
    "2. Subtract\n",
    "3. Multiply\n",
    "4. Divide\n",
    "Enter choice: 3\n",
    "Enter first number:10\n",
    "Enter second number:3\n",
    "10 * 3 = 30\n",
    "Would you like to use the program again? y/n"
   ]
  },
  {
   "cell_type": "markdown",
   "metadata": {},
   "source": [
    "Once you're done, free session! You can play games or do some funny stuff on python (I recommend working with the Turtle, Pygame, Discord.py or the the anaconda3 combo, MatPlotLib, Pandas, NumPy and Scikitlearn! You can get a head start on machine learning if you use the latter)"
   ]
  }
 ],
 "metadata": {
  "kernelspec": {
   "display_name": "Python 3.9.12 64-bit ('anaconda3')",
   "language": "python",
   "name": "python3"
  },
  "language_info": {
   "name": "python",
   "version": "3.9.12"
  },
  "orig_nbformat": 4,
  "vscode": {
   "interpreter": {
    "hash": "38efaa045fcc2680aaeae51f7ac851acc4f32df019d3afeeab3c12114d76b9ae"
   }
  }
 },
 "nbformat": 4,
 "nbformat_minor": 2
}
