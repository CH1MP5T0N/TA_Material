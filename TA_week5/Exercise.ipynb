{
 "cells": [
  {
   "cell_type": "markdown",
   "metadata": {},
   "source": [
    "Create a calculator program with the material I have thought you guys so far, it should use def, have user input, make use of loops as well as if statements.\n",
    "\n",
    "Example:\n",
    "Select Operation\n",
    "1. Add\n",
    "2. Subtract\n",
    "3. Multiply\n",
    "4. Divide\n",
    "Enter choice: 3\n",
    "Enter first number:10\n",
    "Enter second number:3\n",
    "10 * 3 = 30\n",
    "Would you like to use the program again? y/n"
   ]
  },
  {
   "cell_type": "code",
   "execution_count": 1,
   "metadata": {},
   "outputs": [
    {
     "name": "stdout",
     "output_type": "stream",
     "text": [
      "Select operation \n",
      "1. Addition \n",
      "2. Subtraction \n",
      "3. Multiplication \n",
      "4. Division\n",
      "1\n"
     ]
    }
   ],
   "source": [
    "def Addition (x,y):\n",
    "    print(x + y)\n",
    "def Subtraction (x,y):\n",
    "    print(x - y)\n",
    "def Multiplication (x,y):\n",
    "    print(x * y)\n",
    "def Division (x,y):\n",
    "    print(x / y)\n",
    "while True:\n",
    "    print (\"Select operation \\n\"\n",
    "    \"1. Addition \\n\"\n",
    "    \"2. Subtraction \\n\"\n",
    "    \"3. Multiplication \\n\"\n",
    "    \"4. Division\")\n",
    "    UserInput = int(input(\"Enter the number of the operation :\"))\n",
    "    x = int(input(\"Enter first number: \"))\n",
    "    y = int(input(\"Enter second number: \"))\n",
    "    if UserInput == 1:\n",
    "        Addition(x,y)\n",
    "    elif UserInput == 2:\n",
    "        Subtraction(x, y)\n",
    "    elif UserInput == 3:\n",
    "        Multiplication(x, y)\n",
    "    elif UserInput == 4:\n",
    "        Division(x, y)\n",
    "    else:\n",
    "        print(\"Invalid Statement\")\n",
    "    con = input(\"Do you want to use the program again? y/n: \")\n",
    "    if con == \"y\":\n",
    "        continue\n",
    "    elif con == \"n\":\n",
    "        break\n",
    "        print(\"Thank you\")\n",
    "    else: \n",
    "        break\n",
    "        print(\"Invalid statement\")"
   ]
  },
  {
   "cell_type": "markdown",
   "metadata": {},
   "source": [
    "Once you're done, free session! You can play games or do some funny stuff on python (I recommend working with the Turtle, Pygame, Discord.py or the the anaconda3 combo, MatPlotLib, Pandas, NumPy and Scikitlearn! You can get a head start on machine learning if you use the latter)"
   ]
  }
 ],
 "metadata": {
  "kernelspec": {
   "display_name": "Python 3.9.12 64-bit ('anaconda3')",
   "language": "python",
   "name": "python3"
  },
  "language_info": {
   "codemirror_mode": {
    "name": "ipython",
    "version": 3
   },
   "file_extension": ".py",
   "mimetype": "text/x-python",
   "name": "python",
   "nbconvert_exporter": "python",
   "pygments_lexer": "ipython3",
   "version": "3.9.12"
  },
  "orig_nbformat": 4,
  "vscode": {
   "interpreter": {
    "hash": "38efaa045fcc2680aaeae51f7ac851acc4f32df019d3afeeab3c12114d76b9ae"
   }
  }
 },
 "nbformat": 4,
 "nbformat_minor": 2
}
