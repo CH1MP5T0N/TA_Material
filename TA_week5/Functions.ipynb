{
 "cells": [
  {
   "cell_type": "markdown",
   "metadata": {},
   "source": [
    "Write a Python function that prints the larger instead of the smaller of the numbers.\n",
    "For example:\n",
    "function(3, 2)\n",
    "\n",
    "output:\n",
    "3"
   ]
  },
  {
   "cell_type": "code",
   "execution_count": null,
   "metadata": {},
   "outputs": [],
   "source": [
    "def function(x, y):\n",
    "    if x > y:\n",
    "        return x\n",
    "    return y\n",
    "print(function(8, 9))"
   ]
  },
  {
   "cell_type": "markdown",
   "metadata": {},
   "source": [
    "Write a Python function to find the sum of the numbers in a list\n",
    "For example: (2, 3, 4)\n",
    "\n",
    "output:\n",
    "9"
   ]
  },
  {
   "cell_type": "code",
   "execution_count": null,
   "metadata": {},
   "outputs": [],
   "source": [
    "def function(n):\n",
    "    number = 0\n",
    "    for i in n:\n",
    "        number += i \n",
    "    return number\n",
    "print(function((2, 3, 4)))"
   ]
  },
  {
   "cell_type": "markdown",
   "metadata": {},
   "source": [
    "Write a python function that can find the even numbers in a list\n",
    "For example:\n",
    "function(1, 2, 3, 4, 5, 6)\n",
    "\n",
    "output:\n",
    "(2, 4, 6)"
   ]
  },
  {
   "cell_type": "code",
   "execution_count": null,
   "metadata": {},
   "outputs": [],
   "source": [
    "def function(n):\n",
    "    list = []\n",
    "    for i in n:\n",
    "        if i % 2 == 0: #even numbers modulo 2 = 0\n",
    "            list.append(i)\n",
    "    return list\n",
    "print(function([1, 2, 3, 4, 5, 6, 7, 8]))"
   ]
  },
  {
   "cell_type": "code",
   "execution_count": null,
   "metadata": {},
   "outputs": [],
   "source": [
    "import time"
   ]
  }
 ],
 "metadata": {
  "kernelspec": {
   "display_name": "Python 3.9.12 64-bit ('anaconda3')",
   "language": "python",
   "name": "python3"
  },
  "language_info": {
   "name": "python",
   "version": "3.9.12"
  },
  "orig_nbformat": 4,
  "vscode": {
   "interpreter": {
    "hash": "38efaa045fcc2680aaeae51f7ac851acc4f32df019d3afeeab3c12114d76b9ae"
   }
  }
 },
 "nbformat": 4,
 "nbformat_minor": 2
}
