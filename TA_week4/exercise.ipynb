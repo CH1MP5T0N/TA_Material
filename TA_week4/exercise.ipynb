{
 "cells": [
  {
   "cell_type": "markdown",
   "id": "820161c5",
   "metadata": {},
   "source": [
    "1. Write a Python program to append a new item to the end of the array.\n",
    "Sample Output:\n",
    "Original array: [1, 3, 5, 7, 9]\n",
    "Append 11 at the end of the array:\n",
    "New array:[1, 3, 5, 7, 9, 11]"
   ]
  },
  {
   "cell_type": "code",
   "execution_count": null,
   "id": "f3522968",
   "metadata": {},
   "outputs": [],
   "source": []
  },
  {
   "cell_type": "markdown",
   "id": "06271bdb",
   "metadata": {},
   "source": [
    "2. Exercise: Turn every item of a list into its square\n",
    "\n",
    "Given a list of numbers. write a program to turn every item of a list into its square.\n",
    "\n",
    "Given:\n",
    "numbers = [1, 2, 3, 4, 5, 6, 7]\n",
    "\n",
    "Expected output:\n",
    "[1, 4, 9, 16, 25, 36, 49]"
   ]
  },
  {
   "cell_type": "code",
   "execution_count": null,
   "id": "03af9c46",
   "metadata": {},
   "outputs": [],
   "source": []
  },
  {
   "cell_type": "markdown",
   "id": "8ffddffd",
   "metadata": {},
   "source": [
    "3. Exercise: Concatenate two lists in the following order\n",
    "\n",
    "list1 = [\"Hello \", \"take \"]\n",
    "list2 = [\"Dear\", \"Sir\"]\n",
    "\n",
    "Expected output:\n",
    "\n",
    "['Hello Dear', 'Hello Sir', 'take Dear', 'take Sir']"
   ]
  },
  {
   "cell_type": "code",
   "execution_count": null,
   "id": "18fb79a8",
   "metadata": {},
   "outputs": [],
   "source": []
  },
  {
   "cell_type": "markdown",
   "id": "15c21243",
   "metadata": {},
   "source": [
    "4. Exercise: Remove all occurrences of a specific item from a list.\n",
    "\n",
    "Given a Python list, write a program to remove all occurrences of item 20.\n",
    "\n",
    "Given:\n",
    "list1 = [5, 20, 15, 20, 25, 50, 20]\n",
    "\n",
    "Expected output:\n",
    "[5, 15, 25, 50]"
   ]
  },
  {
   "cell_type": "code",
   "execution_count": null,
   "id": "8cf50846",
   "metadata": {},
   "outputs": [],
   "source": []
  }
 ],
 "metadata": {
  "kernelspec": {
   "display_name": "Python 3.9.12 64-bit",
   "language": "python",
   "name": "python3"
  },
  "language_info": {
   "codemirror_mode": {
    "name": "ipython",
    "version": 3
   },
   "file_extension": ".py",
   "mimetype": "text/x-python",
   "name": "python",
   "nbconvert_exporter": "python",
   "pygments_lexer": "ipython3",
   "version": "3.9.12"
  },
  "vscode": {
   "interpreter": {
    "hash": "38efaa045fcc2680aaeae51f7ac851acc4f32df019d3afeeab3c12114d76b9ae"
   }
  }
 },
 "nbformat": 4,
 "nbformat_minor": 5
}
