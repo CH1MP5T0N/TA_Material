{
 "cells": [
  {
   "cell_type": "code",
   "execution_count": 1,
   "id": "8ef471ec",
   "metadata": {},
   "outputs": [
    {
     "name": "stdout",
     "output_type": "stream",
     "text": [
      "69\n",
      "70\n"
     ]
    }
   ],
   "source": [
    "number = 69\n",
    "print(number)\n",
    "print(number + 1)"
   ]
  },
  {
   "cell_type": "code",
   "execution_count": 2,
   "id": "c48123eb",
   "metadata": {},
   "outputs": [
    {
     "name": "stdout",
     "output_type": "stream",
     "text": [
      "69\n"
     ]
    }
   ],
   "source": [
    "num_ber = 69\n",
    "print(num_ber)"
   ]
  },
  {
   "cell_type": "code",
   "execution_count": 3,
   "id": "8dbfc903",
   "metadata": {},
   "outputs": [
    {
     "ename": "SyntaxError",
     "evalue": "invalid syntax (2222580585.py, line 1)",
     "output_type": "error",
     "traceback": [
      "\u001b[1;36m  Input \u001b[1;32mIn [3]\u001b[1;36m\u001b[0m\n\u001b[1;33m    num ber = 69\u001b[0m\n\u001b[1;37m        ^\u001b[0m\n\u001b[1;31mSyntaxError\u001b[0m\u001b[1;31m:\u001b[0m invalid syntax\n"
     ]
    }
   ],
   "source": [
    "num ber = 69\n",
    "print(num ber)"
   ]
  },
  {
   "cell_type": "code",
   "execution_count": null,
   "id": "33f43c86",
   "metadata": {},
   "outputs": [
    {
     "name": "stdout",
     "output_type": "stream",
     "text": [
      "number\n"
     ]
    }
   ],
   "source": [
    "number = 1\n",
    "print(\"number\")\n",
    "#VARIABLES ARE WEIRD, BUT VERY USEFUL"
   ]
  },
  {
   "cell_type": "code",
   "execution_count": null,
   "id": "f3a6b997",
   "metadata": {},
   "outputs": [
    {
     "name": "stdout",
     "output_type": "stream",
     "text": [
      "Abdul\n"
     ]
    }
   ],
   "source": [
    "name = \"Abdul\"\n",
    "print(name)"
   ]
  },
  {
   "cell_type": "code",
   "execution_count": null,
   "id": "812dc244",
   "metadata": {},
   "outputs": [
    {
     "name": "stdout",
     "output_type": "stream",
     "text": [
      "True\n"
     ]
    }
   ],
   "source": [
    "boolean = bool(True)\n",
    "print(boolean)"
   ]
  },
  {
   "cell_type": "code",
   "execution_count": 5,
   "id": "30b7eb3a",
   "metadata": {},
   "outputs": [
    {
     "name": "stdout",
     "output_type": "stream",
     "text": [
      "11\n",
      "-3\n",
      "28\n",
      "0.5714285714285714\n",
      "4\n"
     ]
    }
   ],
   "source": [
    "x = 4\n",
    "y = 7\n",
    "#Addition\n",
    "print(x + y)\n",
    "#Subtraction\n",
    "print(x - y)\n",
    "#Multiplication\n",
    "print(x * y)\n",
    "#Division \n",
    "print(x / y)\n",
    "#Modulo\n",
    "print(x % y)"
   ]
  },
  {
   "cell_type": "code",
   "execution_count": 6,
   "id": "6d26c0be",
   "metadata": {},
   "outputs": [
    {
     "name": "stdout",
     "output_type": "stream",
     "text": [
      "3  3  3.0 \n",
      "<class 'int'> <class 'str'> <class 'float'>\n"
     ]
    }
   ],
   "source": [
    "y = str(3)\n",
    "x = int(3)\n",
    "z = float(3)\n",
    "print(x,\"\", y, \"\", z, \"\")\n",
    "print(type(x), type(y), type(z))"
   ]
  },
  {
   "cell_type": "code",
   "execution_count": 7,
   "id": "9b181d35",
   "metadata": {},
   "outputs": [
    {
     "name": "stdout",
     "output_type": "stream",
     "text": [
      "False\n",
      "True\n",
      "False\n",
      "True\n",
      "True\n",
      "10 + 5\n"
     ]
    }
   ],
   "source": [
    "#Comparison operators\n",
    "x = 5\n",
    "y = 2\n",
    "print(x == y)\n",
    "print(x != y)\n",
    "print(x > y)\n",
    "print(x < y)\n",
    "p = 3\n",
    "t = 3\n",
    "print(p >= t)\n",
    "print(p <= t)\n",
    "\n",
    "print(\"10 + 5\")"
   ]
  },
  {
   "cell_type": "code",
   "execution_count": 8,
   "id": "85bd9466",
   "metadata": {},
   "outputs": [
    {
     "name": "stdout",
     "output_type": "stream",
     "text": [
      "['kanye', 'travis', 'cudi']\n",
      "['kanye', 'travis', 'cudi', 'drake']\n",
      "cudi\n"
     ]
    }
   ],
   "source": [
    "#Lists use syntax []\n",
    "rappers = [\"kanye\",\"travis\",\"cudi\"]\n",
    "print(rappers)\n",
    "#Lists are ordered and as such, the values have their own indexes\n",
    "#They are also changable and can store duplicate values\n",
    "rappers.append(\"drake\")\n",
    "print(rappers)\n",
    "print(rappers[2])"
   ]
  },
  {
   "cell_type": "code",
   "execution_count": 9,
   "id": "b9a8c042",
   "metadata": {},
   "outputs": [
    {
     "name": "stdout",
     "output_type": "stream",
     "text": [
      "('yoru', 'jett', 'omen')\n"
     ]
    }
   ],
   "source": [
    "#Tuples use syntax () and are very similar to lists except for one thing\n",
    "agents = (\"yoru\", \"jett\", \"omen\")\n",
    "print(agents)"
   ]
  },
  {
   "cell_type": "code",
   "execution_count": 10,
   "id": "e2433464",
   "metadata": {},
   "outputs": [
    {
     "ename": "AttributeError",
     "evalue": "'tuple' object has no attribute 'append'",
     "output_type": "error",
     "traceback": [
      "\u001b[1;31m---------------------------------------------------------------------------\u001b[0m",
      "\u001b[1;31mAttributeError\u001b[0m                            Traceback (most recent call last)",
      "\u001b[1;32mc:\\Users\\phili\\Videos\\TA\\TA_week1\\TA Session.ipynb Cell 12\u001b[0m in \u001b[0;36m<cell line: 3>\u001b[1;34m()\u001b[0m\n\u001b[0;32m      <a href='vscode-notebook-cell:/c%3A/Users/phili/Videos/TA/TA_week1/TA%20Session.ipynb#X15sZmlsZQ%3D%3D?line=0'>1</a>\u001b[0m \u001b[39m#Tuples are IMMUTABLE\u001b[39;00m\n\u001b[0;32m      <a href='vscode-notebook-cell:/c%3A/Users/phili/Videos/TA/TA_week1/TA%20Session.ipynb#X15sZmlsZQ%3D%3D?line=1'>2</a>\u001b[0m agents \u001b[39m=\u001b[39m (\u001b[39m\"\u001b[39m\u001b[39myoru\u001b[39m\u001b[39m\"\u001b[39m, \u001b[39m\"\u001b[39m\u001b[39mjett\u001b[39m\u001b[39m\"\u001b[39m, \u001b[39m\"\u001b[39m\u001b[39momen\u001b[39m\u001b[39m\"\u001b[39m)\n\u001b[1;32m----> <a href='vscode-notebook-cell:/c%3A/Users/phili/Videos/TA/TA_week1/TA%20Session.ipynb#X15sZmlsZQ%3D%3D?line=2'>3</a>\u001b[0m agents\u001b[39m.\u001b[39;49mappend(\u001b[39m\"\u001b[39m\u001b[39mbrimstone\u001b[39m\u001b[39m\"\u001b[39m)\n\u001b[0;32m      <a href='vscode-notebook-cell:/c%3A/Users/phili/Videos/TA/TA_week1/TA%20Session.ipynb#X15sZmlsZQ%3D%3D?line=3'>4</a>\u001b[0m \u001b[39mprint\u001b[39m(agents)\n",
      "\u001b[1;31mAttributeError\u001b[0m: 'tuple' object has no attribute 'append'"
     ]
    }
   ],
   "source": [
    "#Tuples are IMMUTABLE\n",
    "agents = (\"yoru\", \"jett\", \"omen\")\n",
    "agents.append(\"brimstone\")\n",
    "print(agents)"
   ]
  },
  {
   "cell_type": "code",
   "execution_count": null,
   "id": "f69d3592",
   "metadata": {},
   "outputs": [
    {
     "name": "stdout",
     "output_type": "stream",
     "text": [
      "{1, 2, 3, 4}\n"
     ]
    }
   ],
   "source": [
    "#Sets use the syntax {}\n",
    "numbers = {1, 2, 3, 4}\n",
    "print(numbers)\n",
    "#Sets are immutable, unordered and cannot store duplicate value"
   ]
  },
  {
   "cell_type": "code",
   "execution_count": null,
   "id": "1b7c5887",
   "metadata": {},
   "outputs": [
    {
     "name": "stdout",
     "output_type": "stream",
     "text": [
      "2\n"
     ]
    }
   ],
   "source": [
    "#Dictionaries use the syntax {} and :\n",
    "genshin = {\"Ye Lan\": 1, \"Diluc\": 2, \"Zhongli\": 3, \"Hu Tao\": 4}\n",
    "print(genshin[\"Diluc\"])\n",
    "#Dictionaries are a storage type that uses keys that correspond with their values"
   ]
  }
 ],
 "metadata": {
  "kernelspec": {
   "display_name": "Python 3.9.12 ('base')",
   "language": "python",
   "name": "python3"
  },
  "language_info": {
   "codemirror_mode": {
    "name": "ipython",
    "version": 3
   },
   "file_extension": ".py",
   "mimetype": "text/x-python",
   "name": "python",
   "nbconvert_exporter": "python",
   "pygments_lexer": "ipython3",
   "version": "3.9.12"
  },
  "vscode": {
   "interpreter": {
    "hash": "38efaa045fcc2680aaeae51f7ac851acc4f32df019d3afeeab3c12114d76b9ae"
   }
  }
 },
 "nbformat": 4,
 "nbformat_minor": 5
}
